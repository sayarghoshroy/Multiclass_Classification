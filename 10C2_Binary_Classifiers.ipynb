{
  "nbformat": 4,
  "nbformat_minor": 0,
  "metadata": {
    "kernelspec": {
      "display_name": "Python 3",
      "language": "python",
      "name": "python3"
    },
    "language_info": {
      "codemirror_mode": {
        "name": "ipython",
        "version": 3
      },
      "file_extension": ".py",
      "mimetype": "text/x-python",
      "name": "python",
      "nbconvert_exporter": "python",
      "pygments_lexer": "ipython3",
      "version": "3.7.3"
    },
    "colab": {
      "name": "10C2_Binary_Classifiers.ipynb",
      "provenance": [],
      "include_colab_link": true
    }
  },
  "cells": [
    {
      "cell_type": "markdown",
      "metadata": {
        "id": "view-in-github",
        "colab_type": "text"
      },
      "source": [
        "<a href=\"https://colab.research.google.com/github/sayarghoshroy/Multiclass_Classification/blob/master/10C2_Binary_Classifiers.ipynb\" target=\"_parent\"><img src=\"https://colab.research.google.com/assets/colab-badge.svg\" alt=\"Open In Colab\"/></a>"
      ]
    },
    {
      "cell_type": "code",
      "metadata": {
        "id": "5HXfTVl7oWou",
        "colab_type": "code",
        "colab": {}
      },
      "source": [
        "# Using 10C2 Binary Classifiers with Majority Voting"
      ],
      "execution_count": 0,
      "outputs": []
    },
    {
      "cell_type": "code",
      "metadata": {
        "id": "cXSW8wf3oWpE",
        "colab_type": "code",
        "colab": {}
      },
      "source": [
        "import numpy as np\n",
        "import matplotlib.pyplot as plt\n",
        "from sklearn.linear_model import LogisticRegression\n",
        "from sklearn import metrics"
      ],
      "execution_count": 0,
      "outputs": []
    },
    {
      "cell_type": "code",
      "metadata": {
        "id": "6WpWkNAroWpX",
        "colab_type": "code",
        "colab": {}
      },
      "source": [
        "def read_data(filename):\n",
        "    with open(filename, 'r') as f:\n",
        "        lines = f.readlines()\n",
        "    \n",
        "    num_points = len(lines)\n",
        "    dim_points = 28 * 28\n",
        "    data = np.empty((num_points, dim_points))\n",
        "    labels = np.empty(num_points)\n",
        "    \n",
        "    for ind, line in enumerate(lines):\n",
        "        num = line.split(',')\n",
        "        labels[ind] = int(num[0])\n",
        "        data[ind] = [ int(x) for x in num[1:] ]\n",
        "        \n",
        "    return (data, labels)\n",
        "\n",
        "train_data, train_labels = read_data(\"sample_train.csv\")\n",
        "test_data, test_labels = read_data(\"sample_test.csv\")"
      ],
      "execution_count": 0,
      "outputs": []
    },
    {
      "cell_type": "code",
      "metadata": {
        "id": "S3CnC51AoWpm",
        "colab_type": "code",
        "colab": {}
      },
      "source": [
        "N = np.shape(train_data)[0]\n",
        "pairs = []\n",
        "binaries = []\n",
        "#print(N)"
      ],
      "execution_count": 0,
      "outputs": []
    },
    {
      "cell_type": "code",
      "metadata": {
        "id": "85T4rl8AoWp0",
        "colab_type": "code",
        "colab": {}
      },
      "source": [
        "for i in range(10):\n",
        "    for j in range(i):\n",
        "        pairs.append( (i, j) )\n",
        "        \n",
        "#print(pairs)"
      ],
      "execution_count": 0,
      "outputs": []
    },
    {
      "cell_type": "code",
      "metadata": {
        "id": "DdoVWTy2oWqD",
        "colab_type": "code",
        "colab": {}
      },
      "source": [
        "for pair in pairs:\n",
        "    #print(pair)\n",
        "    i = pair[0]\n",
        "    j = pair[1]\n",
        "\n",
        "    datapoints = []\n",
        "    labels = []\n",
        "    see = 0\n",
        "    for iterator in range(N):\n",
        "        if int(train_labels[iterator]) == int(i):\n",
        "            datapoints.append(train_data[iterator])\n",
        "            labels.append(1)\n",
        "            see += 1\n",
        "\n",
        "        elif int(train_labels[iterator]) == int(j):\n",
        "            datapoints.append(train_data[iterator])\n",
        "            labels.append(-1)\n",
        "            see += 1\n",
        "\n",
        "    log_reg = LogisticRegression(solver = 'liblinear', max_iter = 100000)\n",
        "    clf = log_reg.fit(datapoints, labels)\n",
        "    binaries.append(clf)\n",
        "    #print(see)"
      ],
      "execution_count": 0,
      "outputs": []
    },
    {
      "cell_type": "code",
      "metadata": {
        "id": "4--xThqaoWqQ",
        "colab_type": "code",
        "colab": {}
      },
      "source": [
        "predictions = []\n",
        "correct = 0\n",
        "T = len(test_data)"
      ],
      "execution_count": 0,
      "outputs": []
    },
    {
      "cell_type": "code",
      "metadata": {
        "id": "zxKA0OpuoWqc",
        "colab_type": "code",
        "colab": {}
      },
      "source": [
        "for iterator in range(T):\n",
        "    index = 0\n",
        "    frequencies = np.zeros(10)\n",
        "    for pair in pairs:\n",
        "        i = pair[0]\n",
        "        j = pair[1]\n",
        "\n",
        "        predict = binaries[index].predict(test_data[iterator].reshape(1, -1))\n",
        "        index += 1\n",
        "        if(predict[0] == 1):\n",
        "            frequencies[i] += 1\n",
        "        else:\n",
        "            frequencies[j] += 1\n",
        "\n",
        "    predicted = np.argmax(frequencies)\n",
        "\n",
        "    if predicted == test_labels[iterator]:\n",
        "        correct += 1\n",
        "        \n",
        "    predictions.append(predicted)"
      ],
      "execution_count": 0,
      "outputs": []
    },
    {
      "cell_type": "code",
      "metadata": {
        "id": "W2zuHNvWoWql",
        "colab_type": "code",
        "colab": {},
        "outputId": "75d77c8b-ac7b-4032-d665-77c19f224a7f"
      },
      "source": [
        "accuracy = str((correct / T) * 100)\n",
        "print(\"Accuracy of Pairwise Binary Classifiers with Majority Voting:\", accuracy, \"%\")\n",
        "\n",
        "print(\"Confusion Matrix:\")\n",
        "mat = metrics.confusion_matrix(test_labels, predictions)\n",
        "print(mat)"
      ],
      "execution_count": 0,
      "outputs": [
        {
          "output_type": "stream",
          "text": [
            "Accuracy of Pairwise Binary Classifiers with Majority Voting: 90.10000000000001 %\n",
            "Confusion Matrix:\n",
            "[[ 98   0   0   0   0   1   1   0   0   0]\n",
            " [  0 100   0   0   0   0   0   0   0   0]\n",
            " [  0   1  91   0   1   1   0   2   2   2]\n",
            " [  0   0   2  91   0   4   1   1   1   0]\n",
            " [  0   0   0   0  94   0   2   0   1   3]\n",
            " [  1   1   0   3   0  86   1   0   7   1]\n",
            " [  3   0   4   0   0   1  92   0   0   0]\n",
            " [  0   2   6   0   2   0   0  83   0   7]\n",
            " [  1   0   2   5   2   3   0   3  82   2]\n",
            " [  0   1   0   2   5   0   0   7   1  84]]\n"
          ],
          "name": "stdout"
        }
      ]
    },
    {
      "cell_type": "code",
      "metadata": {
        "id": "m9hUklT0oWqz",
        "colab_type": "code",
        "colab": {}
      },
      "source": [
        "# Thank You ^_^"
      ],
      "execution_count": 0,
      "outputs": []
    }
  ]
}